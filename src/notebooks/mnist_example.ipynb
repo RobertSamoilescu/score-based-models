{
 "cells": [
  {
   "cell_type": "code",
   "execution_count": null,
   "metadata": {},
   "outputs": [],
   "source": [
    "import torchvision\n",
    "from torchvision import transforms\n",
    "\n",
    "import torch.optim as optim\n",
    "from torch.utils.data import DataLoader\n",
    "\n",
    "from score_models.models.unet import UNet\n",
    "from score_models.trainer import trainer\n",
    "from score_models.train_steps import TrainStepDenoisingScoreMatching\n",
    "from score_models.utils.noise import get_sigmas\n",
    "\n",
    "\n",
    "%load_ext autoreload\n",
    "%autoreload 2"
   ]
  },
  {
   "cell_type": "code",
   "execution_count": null,
   "metadata": {},
   "outputs": [],
   "source": [
    "# Define transformations to be applied to the data\n",
    "transform = transforms.Compose([\n",
    "    transforms.ToTensor(),  # Convert PIL image or numpy array to tensor\n",
    "    transforms.Lambda(lambda x: 2 * x - 1)  # Scale between -1 and 1\n",
    "])\n",
    "\n",
    "# Download and load the MNIST training dataset\n",
    "train_dataset = torchvision.datasets.MNIST(root='./data', train=True, transform=transform, download=True)\n"
   ]
  },
  {
   "cell_type": "code",
   "execution_count": null,
   "metadata": {},
   "outputs": [],
   "source": [
    "# Define parameters for the DataLoader\n",
    "batch_size = 32\n",
    "shuffle = True\n",
    "\n",
    "# Create a DataLoader for the MNIST training dataset\n",
    "images = [image for image, _ in train_dataset]\n",
    "train_loader = DataLoader(dataset=images, batch_size=batch_size, shuffle=shuffle)"
   ]
  },
  {
   "cell_type": "code",
   "execution_count": null,
   "metadata": {},
   "outputs": [],
   "source": [
    "input_size = 2\n",
    "hidden_size = 32\n",
    "\n",
    "L = 10\n",
    "lr = 5e-4\n",
    "\n",
    "sigma_min = 0.01\n",
    "sigma_max = 1.0\n",
    "\n",
    "device = \"cuda\"\n",
    "\n",
    "# define score model and optimizer\n",
    "score_model = UNet(L=L, n_channels=1, n_classes=1).to(device)\n",
    "optimizer = optim.Adam(score_model.parameters(), lr=lr)\n",
    "\n",
    "# define train step (i.e., criterion)\n",
    "sigmas = get_sigmas(L=L, sigma_min=sigma_min, sigma_max=sigma_max)\n",
    "train_step = TrainStepDenoisingScoreMatching(score_model=score_model, sigmas=sigmas)\n"
   ]
  },
  {
   "cell_type": "code",
   "execution_count": null,
   "metadata": {},
   "outputs": [],
   "source": [
    "score_model = trainer(\n",
    "    train_step=train_step,\n",
    "    model=score_model,\n",
    "    train_loader=train_loader,\n",
    "    optimizer=optimizer,\n",
    "    device=device,\n",
    "    num_steps=10_000\n",
    ")"
   ]
  }
 ],
 "metadata": {
  "kernelspec": {
   "display_name": "venv",
   "language": "python",
   "name": "python3"
  },
  "language_info": {
   "codemirror_mode": {
    "name": "ipython",
    "version": 3
   },
   "file_extension": ".py",
   "mimetype": "text/x-python",
   "name": "python",
   "nbconvert_exporter": "python",
   "pygments_lexer": "ipython3",
   "version": "3.11.1"
  },
  "orig_nbformat": 4
 },
 "nbformat": 4,
 "nbformat_minor": 2
}
