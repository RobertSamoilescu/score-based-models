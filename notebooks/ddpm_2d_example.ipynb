{
 "cells": [
  {
   "cell_type": "code",
   "execution_count": 1,
   "metadata": {},
   "outputs": [],
   "source": [
    "import matplotlib.pyplot as plt\n",
    "\n",
    "import torch\n",
    "import torch.optim as optim\n",
    "from torch.utils.data import DataLoader\n",
    "from torch.optim.lr_scheduler import CosineAnnealingLR\n",
    "from ignite.handlers import create_lr_scheduler_with_warmup\n",
    "\n",
    "from score_models.trainer import trainer\n",
    "from score_models.models.mlp import MLPScoreModel\n",
    "from score_models.train_steps.ddpm_train_step import TrainStepDDPM\n",
    "from score_models.utils.data import guassian_mixture\n",
    "from score_models.utils.noise import get_betas\n",
    "from score_models.sampling import ddpm_sampling"
   ]
  },
  {
   "cell_type": "code",
   "execution_count": 2,
   "metadata": {},
   "outputs": [],
   "source": [
    "# load dataset\n",
    "dataset = guassian_mixture(N=10_000)\n",
    "dataloader = DataLoader(dataset, batch_size=128, shuffle=True)"
   ]
  },
  {
   "cell_type": "code",
   "execution_count": 3,
   "metadata": {},
   "outputs": [],
   "source": [
    "device = \"cuda\"\n",
    "input_size = 2\n",
    "hidden_size = 32\n",
    "T = 1000\n",
    "lr = 1e-4\n",
    "weight_decay = 1e-4\n",
    "\n",
    "# define score model and optimizer\n",
    "score_model = MLPScoreModel(input_size=input_size, hidden_size=hidden_size, T=T).to(device)\n",
    "optimizer = optim.AdamW(score_model.parameters(), lr=lr, weight_decay=weight_decay)\n",
    "\n",
    "\n",
    "# Create a chained scheduler\n",
    "num_steps = 100_000\n",
    "warmup_steps = int(0.1 * num_steps)\n",
    "\n",
    "scheduler = create_lr_scheduler_with_warmup(\n",
    "    CosineAnnealingLR(optimizer, T_max=num_steps - warmup_steps),\n",
    "    warmup_start_value=0.0,\n",
    "    warmup_end_value=lr,\n",
    "    warmup_duration=warmup_steps,\n",
    ")\n",
    "\n",
    "# define train step (i.e., criterion)\n",
    "beta_min, beta_max = 1e-4, 2e-2\n",
    "betas = get_betas(beta_min=beta_min, beta_max=beta_max, T=T)\n",
    "train_step = TrainStepDDPM(score_model=score_model, alphas_bar=betas[\"alphas_bar\"])\n"
   ]
  },
  {
   "cell_type": "code",
   "execution_count": 4,
   "metadata": {},
   "outputs": [
    {
     "name": "stderr",
     "output_type": "stream",
     "text": [
      "  0%|          | 31/100000 [00:00<22:31, 73.98it/s]  "
     ]
    },
    {
     "name": "stdout",
     "output_type": "stream",
     "text": [
      "Step 1, Loss: 1.8718\n"
     ]
    },
    {
     "name": "stderr",
     "output_type": "stream",
     "text": [
      " 10%|█         | 10045/100000 [00:34<05:08, 291.56it/s]"
     ]
    },
    {
     "name": "stdout",
     "output_type": "stream",
     "text": [
      "Step 10000, Loss: 1.1633\n"
     ]
    },
    {
     "name": "stderr",
     "output_type": "stream",
     "text": [
      " 20%|██        | 20034/100000 [01:05<04:09, 320.14it/s]"
     ]
    },
    {
     "name": "stdout",
     "output_type": "stream",
     "text": [
      "Step 20000, Loss: 1.0420\n"
     ]
    },
    {
     "name": "stderr",
     "output_type": "stream",
     "text": [
      " 30%|███       | 30037/100000 [01:35<03:21, 347.11it/s]"
     ]
    },
    {
     "name": "stdout",
     "output_type": "stream",
     "text": [
      "Step 30000, Loss: 0.9075\n"
     ]
    },
    {
     "name": "stderr",
     "output_type": "stream",
     "text": [
      " 40%|████      | 40039/100000 [02:07<03:22, 295.49it/s]"
     ]
    },
    {
     "name": "stdout",
     "output_type": "stream",
     "text": [
      "Step 40000, Loss: 0.8226\n"
     ]
    },
    {
     "name": "stderr",
     "output_type": "stream",
     "text": [
      " 50%|█████     | 50035/100000 [02:41<02:58, 280.63it/s]"
     ]
    },
    {
     "name": "stdout",
     "output_type": "stream",
     "text": [
      "Step 50000, Loss: 0.7986\n"
     ]
    },
    {
     "name": "stderr",
     "output_type": "stream",
     "text": [
      " 60%|██████    | 60031/100000 [03:14<02:08, 309.98it/s]"
     ]
    },
    {
     "name": "stdout",
     "output_type": "stream",
     "text": [
      "Step 60000, Loss: 0.7892\n"
     ]
    },
    {
     "name": "stderr",
     "output_type": "stream",
     "text": [
      " 70%|███████   | 70056/100000 [03:46<01:39, 300.22it/s]"
     ]
    },
    {
     "name": "stdout",
     "output_type": "stream",
     "text": [
      "Step 70000, Loss: 0.7864\n"
     ]
    },
    {
     "name": "stderr",
     "output_type": "stream",
     "text": [
      " 80%|████████  | 80052/100000 [04:17<01:03, 314.17it/s]"
     ]
    },
    {
     "name": "stdout",
     "output_type": "stream",
     "text": [
      "Step 80000, Loss: 0.7539\n"
     ]
    },
    {
     "name": "stderr",
     "output_type": "stream",
     "text": [
      " 90%|█████████ | 90043/100000 [04:49<00:31, 318.88it/s]"
     ]
    },
    {
     "name": "stdout",
     "output_type": "stream",
     "text": [
      "Step 90000, Loss: 0.7772\n"
     ]
    },
    {
     "name": "stderr",
     "output_type": "stream",
     "text": [
      "100%|██████████| 100000/100000 [05:20<00:00, 311.93it/s]"
     ]
    },
    {
     "name": "stdout",
     "output_type": "stream",
     "text": [
      "Step 100000, Loss: 0.7547\n"
     ]
    },
    {
     "name": "stderr",
     "output_type": "stream",
     "text": [
      "\n"
     ]
    }
   ],
   "source": [
    "score_model = trainer(\n",
    "    train_step=train_step,\n",
    "    model=score_model,\n",
    "    train_loader=dataloader,\n",
    "    optimizer=optimizer,\n",
    "    device=device,\n",
    "    num_steps=num_steps,\n",
    "    log_every=10_000,\n",
    "    save_every=50_000,\n",
    ")"
   ]
  },
  {
   "cell_type": "code",
   "execution_count": 5,
   "metadata": {},
   "outputs": [],
   "source": [
    "x = torch.randn(500, 2).to(device)\n",
    "samples = ddpm_sampling(\n",
    "    x=x,\n",
    "    score_model=score_model,\n",
    "    alphas=betas[\"alphas\"],\n",
    "    alphas_bar=betas[\"alphas_bar\"],\n",
    "    sigmas=betas[\"sigmas\"],\n",
    "    T=T\n",
    ").cpu().numpy()"
   ]
  },
  {
   "cell_type": "code",
   "execution_count": 6,
   "metadata": {},
   "outputs": [
    {
     "data": {
      "image/png": "[encoded data removed]",
      "text/plain": [
       "<Figure size 500x500 with 1 Axes>"
      ]
     },
     "metadata": {},
     "output_type": "display_data"
    }
   ],
   "source": [
    "_, ax = plt.subplots(nrows=1, ncols=1, figsize=(5, 5))\n",
    "ax.scatter(samples[:, 0], samples[:, 1], color='red', s=4, label='Samples')\n",
    "ax.scatter(dataset[:500][:, 0], dataset[:500][:, 1], color='blue', s=4, label='Data')\n",
    "ax.set_title('Samples and Data')\n",
    "plt.legend();"
   ]
  }
 ],
 "metadata": {
  "kernelspec": {
   "display_name": "score-models",
   "language": "python",
   "name": "python3"
  },
  "language_info": {
   "codemirror_mode": {
    "name": "ipython",
    "version": 3
   },
   "file_extension": ".py",
   "mimetype": "text/x-python",
   "name": "python",
   "nbconvert_exporter": "python",
   "pygments_lexer": "ipython3",
   "version": "3.10.14"
  },
  "orig_nbformat": 4
 },
 "nbformat": 4,
 "nbformat_minor": 2
}
