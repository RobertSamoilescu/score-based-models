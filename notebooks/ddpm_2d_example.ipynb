{
 "cells": [
  {
   "cell_type": "code",
   "execution_count": 1,
   "metadata": {},
   "outputs": [],
   "source": [
    "import matplotlib.pyplot as plt\n",
    "\n",
    "import torch\n",
    "import torch.optim as optim\n",
    "from torch.utils.data import DataLoader\n",
    "from torch.optim.lr_scheduler import CosineAnnealingLR\n",
    "\n",
    "from score_models.trainer import trainer\n",
    "from score_models.models.mlp.mlp import MLPScoreModel\n",
    "from score_models.train_steps.ddpm_train_step import TrainStepDDPM\n",
    "from score_models.utils.data import guassian_mixture\n",
    "from score_models.utils.noise import get_betas\n",
    "from score_models.sampling import ddpm_sampling\n",
    "from score_models.utils.warmup_scheduler import WarmUpScheduler"
   ]
  },
  {
   "cell_type": "code",
   "execution_count": 2,
   "metadata": {},
   "outputs": [],
   "source": [
    "# load dataset\n",
    "dataset = guassian_mixture(N=10_000)\n",
    "dataloader = DataLoader(dataset, batch_size=128, shuffle=True)"
   ]
  },
  {
   "cell_type": "code",
   "execution_count": 3,
   "metadata": {},
   "outputs": [],
   "source": [
    "device = \"cuda\"\n",
    "input_size = 2\n",
    "hidden_size = 32\n",
    "T = 1000\n",
    "lr = 1e-4\n",
    "weight_decay = 1e-4\n",
    "\n",
    "# define score model and optimizer\n",
    "score_model = MLPScoreModel(input_size=input_size, hidden_size=hidden_size, T=T).to(device)\n",
    "optimizer = optim.AdamW(score_model.parameters(), lr=lr, weight_decay=weight_decay)\n",
    "\n",
    "\n",
    "# Create a chained scheduler\n",
    "num_steps = 200_000\n",
    "warmup_steps = int(0.1 * num_steps)\n",
    "\n",
    "# define scheduler\n",
    "warmup_steps = int(0.1 * num_steps)\n",
    "scheduler = CosineAnnealingLR(optimizer, T_max=num_steps - warmup_steps)\n",
    "warmup_scheduler = WarmUpScheduler(\n",
    "    optimizer=optimizer,\n",
    "    lr_scheduler=scheduler,\n",
    "    warmup_steps=warmup_steps,\n",
    "    warmup_start_lr=0.0,\n",
    "    warmup_mode=\"linear\",\n",
    ")\n",
    "\n",
    "# define train step (i.e., criterion)\n",
    "beta_min, beta_max = 1e-4, 2e-2\n",
    "betas = get_betas(beta_min=beta_min, beta_max=beta_max, T=T)\n",
    "train_step = TrainStepDDPM(score_model=score_model, alphas_bar=betas[\"alphas_bar\"])\n"
   ]
  },
  {
   "cell_type": "code",
   "execution_count": 4,
   "metadata": {},
   "outputs": [
    {
     "name": "stderr",
     "output_type": "stream",
     "text": [
      "  0%|          | 30/200000 [00:00<40:01, 83.28it/s]  "
     ]
    },
    {
     "name": "stdout",
     "output_type": "stream",
     "text": [
      "Step 1, Loss: 2.5893. LR: 0.0001e-4\n"
     ]
    },
    {
     "name": "stderr",
     "output_type": "stream",
     "text": [
      "  5%|▌         | 10037/200000 [00:33<11:02, 286.65it/s]"
     ]
    },
    {
     "name": "stdout",
     "output_type": "stream",
     "text": [
      "Step 10000, Loss: 1.1933. LR: 0.5000e-4\n"
     ]
    },
    {
     "name": "stderr",
     "output_type": "stream",
     "text": [
      " 10%|█         | 20055/200000 [01:07<10:24, 288.03it/s]"
     ]
    },
    {
     "name": "stdout",
     "output_type": "stream",
     "text": [
      "Step 20000, Loss: 1.1316. LR: 1.0000e-4\n"
     ]
    },
    {
     "name": "stderr",
     "output_type": "stream",
     "text": [
      " 15%|█▌        | 30047/200000 [01:40<09:07, 310.52it/s]"
     ]
    },
    {
     "name": "stdout",
     "output_type": "stream",
     "text": [
      "Step 30000, Loss: 1.0700. LR: 0.9924e-4\n"
     ]
    },
    {
     "name": "stderr",
     "output_type": "stream",
     "text": [
      " 20%|██        | 40043/200000 [02:12<09:19, 285.77it/s]"
     ]
    },
    {
     "name": "stdout",
     "output_type": "stream",
     "text": [
      "Step 40000, Loss: 0.9459. LR: 0.9698e-4\n"
     ]
    },
    {
     "name": "stderr",
     "output_type": "stream",
     "text": [
      " 25%|██▌       | 50029/200000 [02:44<08:13, 303.97it/s]"
     ]
    },
    {
     "name": "stdout",
     "output_type": "stream",
     "text": [
      "Step 50000, Loss: 0.8434. LR: 0.9330e-4\n"
     ]
    },
    {
     "name": "stderr",
     "output_type": "stream",
     "text": [
      " 30%|███       | 60063/200000 [03:16<07:13, 322.68it/s]"
     ]
    },
    {
     "name": "stdout",
     "output_type": "stream",
     "text": [
      "Step 60000, Loss: 0.8233. LR: 0.8830e-4\n"
     ]
    },
    {
     "name": "stderr",
     "output_type": "stream",
     "text": [
      " 35%|███▌      | 70050/200000 [03:46<06:41, 323.46it/s]"
     ]
    },
    {
     "name": "stdout",
     "output_type": "stream",
     "text": [
      "Step 70000, Loss: 0.8127. LR: 0.8214e-4\n"
     ]
    },
    {
     "name": "stderr",
     "output_type": "stream",
     "text": [
      " 40%|████      | 80061/200000 [04:18<06:19, 315.96it/s]"
     ]
    },
    {
     "name": "stdout",
     "output_type": "stream",
     "text": [
      "Step 80000, Loss: 0.8079. LR: 0.7500e-4\n"
     ]
    },
    {
     "name": "stderr",
     "output_type": "stream",
     "text": [
      " 45%|████▌     | 90028/200000 [04:49<05:36, 326.43it/s]"
     ]
    },
    {
     "name": "stdout",
     "output_type": "stream",
     "text": [
      "Step 90000, Loss: 0.7807. LR: 0.6710e-4\n"
     ]
    },
    {
     "name": "stderr",
     "output_type": "stream",
     "text": [
      " 50%|█████     | 100059/200000 [05:20<05:07, 324.63it/s]"
     ]
    },
    {
     "name": "stdout",
     "output_type": "stream",
     "text": [
      "Step 100000, Loss: 0.7446. LR: 0.5868e-4\n"
     ]
    },
    {
     "name": "stderr",
     "output_type": "stream",
     "text": [
      " 55%|█████▌    | 110048/200000 [05:52<04:33, 329.24it/s]"
     ]
    },
    {
     "name": "stdout",
     "output_type": "stream",
     "text": [
      "Step 110000, Loss: 0.7558. LR: 0.5000e-4\n"
     ]
    },
    {
     "name": "stderr",
     "output_type": "stream",
     "text": [
      " 60%|██████    | 120041/200000 [06:23<04:07, 323.27it/s]"
     ]
    },
    {
     "name": "stdout",
     "output_type": "stream",
     "text": [
      "Step 120000, Loss: 0.7048. LR: 0.4132e-4\n"
     ]
    },
    {
     "name": "stderr",
     "output_type": "stream",
     "text": [
      " 65%|██████▌   | 130032/200000 [06:56<03:52, 300.50it/s]"
     ]
    },
    {
     "name": "stdout",
     "output_type": "stream",
     "text": [
      "Step 130000, Loss: 0.7912. LR: 0.3290e-4\n"
     ]
    },
    {
     "name": "stderr",
     "output_type": "stream",
     "text": [
      " 70%|███████   | 140047/200000 [07:29<03:25, 291.37it/s]"
     ]
    },
    {
     "name": "stdout",
     "output_type": "stream",
     "text": [
      "Step 140000, Loss: 0.7609. LR: 0.2500e-4\n"
     ]
    },
    {
     "name": "stderr",
     "output_type": "stream",
     "text": [
      " 75%|███████▌  | 150038/200000 [08:03<02:51, 290.55it/s]"
     ]
    },
    {
     "name": "stdout",
     "output_type": "stream",
     "text": [
      "Step 150000, Loss: 0.7307. LR: 0.1786e-4\n"
     ]
    },
    {
     "name": "stderr",
     "output_type": "stream",
     "text": [
      " 80%|████████  | 160045/200000 [08:36<02:14, 296.62it/s]"
     ]
    },
    {
     "name": "stdout",
     "output_type": "stream",
     "text": [
      "Step 160000, Loss: 0.7433. LR: 0.1170e-4\n"
     ]
    },
    {
     "name": "stderr",
     "output_type": "stream",
     "text": [
      " 85%|████████▌ | 170049/200000 [09:09<01:40, 297.76it/s]"
     ]
    },
    {
     "name": "stdout",
     "output_type": "stream",
     "text": [
      "Step 170000, Loss: 0.7138. LR: 0.0670e-4\n"
     ]
    },
    {
     "name": "stderr",
     "output_type": "stream",
     "text": [
      " 90%|█████████ | 180028/200000 [09:43<01:09, 287.02it/s]"
     ]
    },
    {
     "name": "stdout",
     "output_type": "stream",
     "text": [
      "Step 180000, Loss: 0.7140. LR: 0.0302e-4\n"
     ]
    },
    {
     "name": "stderr",
     "output_type": "stream",
     "text": [
      " 95%|█████████▌| 190046/200000 [10:17<00:33, 296.84it/s]"
     ]
    },
    {
     "name": "stdout",
     "output_type": "stream",
     "text": [
      "Step 190000, Loss: 0.7542. LR: 0.0076e-4\n"
     ]
    },
    {
     "name": "stderr",
     "output_type": "stream",
     "text": [
      "100%|██████████| 200000/200000 [10:51<00:00, 307.18it/s]"
     ]
    },
    {
     "name": "stdout",
     "output_type": "stream",
     "text": [
      "Step 200000, Loss: 0.7413. LR: 0.0000e-4\n"
     ]
    },
    {
     "name": "stderr",
     "output_type": "stream",
     "text": [
      "\n"
     ]
    }
   ],
   "source": [
    "score_model = trainer(\n",
    "    train_step=train_step,\n",
    "    model=score_model,\n",
    "    train_loader=dataloader,\n",
    "    optimizer=optimizer,\n",
    "    scheduler=warmup_scheduler,\n",
    "    num_steps=num_steps,\n",
    "    log_every=10_000,\n",
    "    save_every=50_000,\n",
    "    batch_preprocessor=lambda x: (x.to(device), ),\n",
    ")"
   ]
  },
  {
   "cell_type": "code",
   "execution_count": 5,
   "metadata": {},
   "outputs": [],
   "source": [
    "x = torch.randn(500, 2).to(device)\n",
    "samples = ddpm_sampling(\n",
    "    x=x,\n",
    "    score_model=score_model,\n",
    "    alphas=betas[\"alphas\"],\n",
    "    alphas_bar=betas[\"alphas_bar\"],\n",
    "    sigmas=betas[\"sigmas\"],\n",
    "    T=T\n",
    ").cpu().numpy()"
   ]
  },
  {
   "cell_type": "code",
   "execution_count": 6,
   "metadata": {},
   "outputs": [
    {
     "data": {
      "image/png": "[encoded data removed]",
      "text/plain": [
       "<Figure size 500x500 with 1 Axes>"
      ]
     },
     "metadata": {},
     "output_type": "display_data"
    }
   ],
   "source": [
    "_, ax = plt.subplots(nrows=1, ncols=1, figsize=(5, 5))\n",
    "ax.scatter(samples[:, 0], samples[:, 1], color='red', s=4, label='Samples')\n",
    "ax.scatter(dataset[:500][:, 0], dataset[:500][:, 1], color='blue', s=4, label='Data')\n",
    "ax.set_title('Samples and Data')\n",
    "plt.legend();"
   ]
  },
  {
   "cell_type": "code",
   "execution_count": null,
   "metadata": {},
   "outputs": [],
   "source": []
  }
 ],
 "metadata": {
  "kernelspec": {
   "display_name": "score-models",
   "language": "python",
   "name": "python3"
  },
  "language_info": {
   "codemirror_mode": {
    "name": "ipython",
    "version": 3
   },
   "file_extension": ".py",
   "mimetype": "text/x-python",
   "name": "python",
   "nbconvert_exporter": "python",
   "pygments_lexer": "ipython3",
   "version": "3.10.14"
  },
  "orig_nbformat": 4
 },
 "nbformat": 4,
 "nbformat_minor": 2
}
