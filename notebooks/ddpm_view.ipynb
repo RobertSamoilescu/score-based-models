{
 "cells": [
  {
   "cell_type": "code",
   "execution_count": null,
   "metadata": {},
   "outputs": [],
   "source": [
    "import os\n",
    "os.environ['CUDA_VISIBLE_DEVICES'] = '2'\n",
    "\n",
    "import torch\n",
    "import torchvision\n",
    "\n",
    "from score_models.models.unet import UNet\n",
    "from score_models.sampling import ddpm_sampling\n",
    "from score_models.utils.noise import get_betas\n",
    "from score_models.utils.visualisations import show_torch_images"
   ]
  },
  {
   "cell_type": "code",
   "execution_count": null,
   "metadata": {},
   "outputs": [],
   "source": [
    "T=1_000\n",
    "in_ch = 3\n",
    "ch = 128\n",
    "ch_mult = [1, 2, 3, 4]\n",
    "attn = [2]\n",
    "num_res_blocks = 2\n",
    "dropout = 0.15\n",
    "device = \"cuda\"\n",
    "\n",
    "# construct score model\n",
    "score_model = UNet(\n",
    "    T=T, \n",
    "    in_ch=in_ch, \n",
    "    ch=ch, \n",
    "    ch_mult=ch_mult, \n",
    "    attn=attn, \n",
    "    num_res_blocks=num_res_blocks, \n",
    "    dropout=dropout,\n",
    ").to(device)\n",
    "\n",
    "# load pre-trained model\n",
    "path = \"../scripts/checkpoints/ddpm_checkpoints/200000.pt\"\n",
    "score_model.load_state_dict(\n",
    "    torch.load(path)[\"model_state_dict\"]\n",
    ")\n",
    "\n",
    "# define train step (i.e., criterion)\n",
    "beta_min, beta_max = 1e-4, 2e-2\n",
    "sigmas = get_betas(beta_min=beta_min, beta_max=beta_max, T=T)"
   ]
  },
  {
   "cell_type": "code",
   "execution_count": null,
   "metadata": {},
   "outputs": [],
   "source": [
    "x = torch.randn(32, 3, 32, 32).to(device)\n",
    "samples = ddpm_sampling(\n",
    "    x=x,\n",
    "    score_model=score_model, \n",
    "    sigmas=sigmas,\n",
    "    T=100,\n",
    "    eps=2e-5,\n",
    ").cpu()\n",
    "\n",
    "samples = torch.clamp(samples, 0, 1)"
   ]
  },
  {
   "cell_type": "code",
   "execution_count": null,
   "metadata": {},
   "outputs": [],
   "source": [
    "grid = torchvision.utils.make_grid(samples, nrow=8, normalize=True, value_range=(0, 1))\n",
    "show_torch_images(grid)"
   ]
  }
 ],
 "metadata": {
  "kernelspec": {
   "display_name": "score-models",
   "language": "python",
   "name": "python3"
  },
  "language_info": {
   "codemirror_mode": {
    "name": "ipython",
    "version": 3
   },
   "file_extension": ".py",
   "mimetype": "text/x-python",
   "name": "python",
   "nbconvert_exporter": "python",
   "pygments_lexer": "ipython3",
   "version": "3.10.14"
  },
  "orig_nbformat": 4
 },
 "nbformat": 4,
 "nbformat_minor": 2
}
